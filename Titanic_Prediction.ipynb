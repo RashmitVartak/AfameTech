{
  "nbformat": 4,
  "nbformat_minor": 0,
  "metadata": {
    "colab": {
      "provenance": [],
      "authorship_tag": "ABX9TyN4nUL4FgM5SKJDo+n6OpT3",
      "include_colab_link": true
    },
    "kernelspec": {
      "name": "python3",
      "display_name": "Python 3"
    },
    "language_info": {
      "name": "python"
    }
  },
  "cells": [
    {
      "cell_type": "markdown",
      "metadata": {
        "id": "view-in-github",
        "colab_type": "text"
      },
      "source": [
        "<a href=\"https://colab.research.google.com/github/RashmitVartak/AfameTech/blob/main/Titanic_Prediction.ipynb\" target=\"_parent\"><img src=\"https://colab.research.google.com/assets/colab-badge.svg\" alt=\"Open In Colab\"/></a>"
      ]
    },
    {
      "cell_type": "code",
      "execution_count": null,
      "metadata": {
        "id": "iJZwx5mz_rGc"
      },
      "outputs": [],
      "source": [
        "#will try to build multiple models for predicting the survival of the passenger and try deplying it on the streamlit\n",
        "#Titanic prediction\n",
        "#converting to tthe pickle file\n",
        "#using react to build a web application\n",
        "#Deploying it on the Streamlit"
      ]
    }
  ]
}